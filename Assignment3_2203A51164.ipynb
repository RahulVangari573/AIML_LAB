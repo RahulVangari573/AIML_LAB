{
  "nbformat": 4,
  "nbformat_minor": 0,
  "metadata": {
    "colab": {
      "provenance": []
    },
    "kernelspec": {
      "name": "python3",
      "display_name": "Python 3"
    },
    "language_info": {
      "name": "python"
    }
  },
  "cells": [
    {
      "cell_type": "code",
      "execution_count": 1,
      "metadata": {
        "colab": {
          "base_uri": "https://localhost:8080/"
        },
        "id": "bzZkqeaTC_zO",
        "outputId": "cda8584f-8bab-4be7-da13-2a2694f984f8"
      },
      "outputs": [
        {
          "output_type": "stream",
          "name": "stdout",
          "text": [
            "The best value for the maximizer (A) is: 4\n"
          ]
        }
      ],
      "source": [
        "# Define the tree structure based on the given problem\n",
        "tree = {\n",
        "    'A': {\n",
        "        'B': {'D': {'H': -1, 'I': 4}, 'E': {'J': 2, 'K': 6}},\n",
        "        'C': {'F': {'L': -3, 'M': -5}, 'G': {'N': 0, 'O': 7}}\n",
        "    }\n",
        "}\n",
        "\n",
        "# Min-Max Algorithm\n",
        "def minimax(node, maximizing_player):\n",
        "    if isinstance(node, int):\n",
        "        return node\n",
        "\n",
        "    if maximizing_player:\n",
        "        best_value = float('-inf')\n",
        "        for child in node.values():\n",
        "            value = minimax(child, False)\n",
        "            best_value = max(best_value, value)\n",
        "        return best_value\n",
        "    else:\n",
        "        best_value = float('inf')\n",
        "        for child in node.values():\n",
        "            value = minimax(child, True)\n",
        "            best_value = min(best_value, value)\n",
        "        return best_value\n",
        "\n",
        "# Apply the Min-Max algorithm on the root node 'A'\n",
        "best_value = minimax(tree['A'], True)\n",
        "print(\"The best value for the maximizer (A) is:\", best_value)"
      ]
    },
    {
      "cell_type": "code",
      "source": [
        "# Define the tree structure based on the given problem\n",
        "tree = {\n",
        "    'value': None,\n",
        "    'children': [\n",
        "        {\n",
        "            'value': None,\n",
        "            'children': [\n",
        "                {'value': -1, 'children': []},  # H\n",
        "                {'value': 4, 'children': []}    # I\n",
        "            ]\n",
        "        },  # D\n",
        "        {\n",
        "            'value': None,\n",
        "            'children': [\n",
        "                {'value': 2, 'children': []},  # J\n",
        "                {'value': 6, 'children': []}   # K\n",
        "            ]\n",
        "        },  # E\n",
        "        {\n",
        "            'value': None,\n",
        "            'children': [\n",
        "                {'value': -3, 'children': []},  # L\n",
        "                {'value': -5, 'children': []}   # M\n",
        "            ]\n",
        "        },  # F\n",
        "        {\n",
        "            'value': None,\n",
        "            'children': [\n",
        "                {'value': 0, 'children': []},  # N\n",
        "                {'value': 7, 'children': []}   # O\n",
        "            ]\n",
        "        }   # G\n",
        "    ]\n",
        "}\n",
        "\n",
        "# Alpha-Beta Pruning Algorithm\n",
        "def alpha_beta_pruning(node, alpha, beta, maximizing_player):\n",
        "    if 'children' not in node or not node['children']:\n",
        "        return node['value']\n",
        "\n",
        "    if maximizing_player:\n",
        "        value = float('-inf')\n",
        "        for child in node['children']:\n",
        "            value = max(value, alpha_beta_pruning(child, alpha, beta, False))\n",
        "            alpha = max(alpha, value)\n",
        "            if alpha >= beta:\n",
        "                break  # Beta cut-off\n",
        "        return value\n",
        "    else:\n",
        "        value = float('inf')\n",
        "        for child in node['children']:\n",
        "            value = min(value, alpha_beta_pruning(child, alpha, beta, True))\n",
        "            beta = min(beta, value)\n",
        "            if beta <= alpha:\n",
        "                break  # Alpha cut-off\n",
        "        return value\n",
        "\n",
        "# Apply the alpha-beta pruning algorithm on the root node\n",
        "best_value = alpha_beta_pruning(tree, float('-inf'), float('inf'), True)\n",
        "print(\"The best value for the maximizer (A) is:\", best_value)"
      ],
      "metadata": {
        "id": "Az61uZVmDPr7",
        "outputId": "acecd662-2f1f-4872-8936-2a1083b6489d",
        "colab": {
          "base_uri": "https://localhost:8080/"
        }
      },
      "execution_count": 2,
      "outputs": [
        {
          "output_type": "stream",
          "name": "stdout",
          "text": [
            "The best value for the maximizer (A) is: 2\n"
          ]
        }
      ]
    }
  ]
}