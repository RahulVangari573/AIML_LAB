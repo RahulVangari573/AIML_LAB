{
  "nbformat": 4,
  "nbformat_minor": 0,
  "metadata": {
    "colab": {
      "provenance": []
    },
    "kernelspec": {
      "name": "python3",
      "display_name": "Python 3"
    },
    "language_info": {
      "name": "python"
    }
  },
  "cells": [
    {
      "cell_type": "code",
      "execution_count": 1,
      "metadata": {
        "colab": {
          "base_uri": "https://localhost:8080/"
        },
        "id": "2el5W1r1GMXu",
        "outputId": "04a46a4f-eec9-4095-c8f9-72dd90499f4a"
      },
      "outputs": [
        {
          "output_type": "stream",
          "name": "stdout",
          "text": [
            "Mounted at /content/drive\n"
          ]
        }
      ],
      "source": [
        "from google.colab import drive\n",
        "drive.mount('/content/drive')"
      ]
    },
    {
      "cell_type": "code",
      "source": [
        "#A\n",
        "import pandas as pd\n",
        "data = pd.read_excel('/content/drive/MyDrive/Colab Notebooks/housing.xlsx')\n",
        "print(data)"
      ],
      "metadata": {
        "colab": {
          "base_uri": "https://localhost:8080/"
        },
        "id": "ri17_ccEGaEF",
        "outputId": "db428924-e0d2-466e-e1b4-3d46d51d9a2d"
      },
      "execution_count": 7,
      "outputs": [
        {
          "output_type": "stream",
          "name": "stdout",
          "text": [
            "       longitude  latitude  housing_median_age  total_rooms  total_bedrooms  \\\n",
            "0        -122.23     37.88                  41          880           129.0   \n",
            "1        -122.22     37.86                  21         7099          1106.0   \n",
            "2        -122.24     37.85                  52         1467           190.0   \n",
            "3        -122.25     37.85                  52         1274           235.0   \n",
            "4        -122.25     37.85                  52         1627           280.0   \n",
            "...          ...       ...                 ...          ...             ...   \n",
            "20635    -121.09     39.48                  25         1665           374.0   \n",
            "20636    -121.21     39.49                  18          697           150.0   \n",
            "20637    -121.22     39.43                  17         2254           485.0   \n",
            "20638    -121.32     39.43                  18         1860           409.0   \n",
            "20639    -121.24     39.37                  16         2785           616.0   \n",
            "\n",
            "       population  households  median_income  median_house_value  \\\n",
            "0             322         126         8.3252              452600   \n",
            "1            2401        1138         8.3014              358500   \n",
            "2             496         177         7.2574              352100   \n",
            "3             558         219         5.6431              341300   \n",
            "4             565         259         3.8462              342200   \n",
            "...           ...         ...            ...                 ...   \n",
            "20635         845         330         1.5603               78100   \n",
            "20636         356         114         2.5568               77100   \n",
            "20637        1007         433         1.7000               92300   \n",
            "20638         741         349         1.8672               84700   \n",
            "20639        1387         530         2.3886               89400   \n",
            "\n",
            "      ocean_proximity  \n",
            "0            NEAR BAY  \n",
            "1            NEAR BAY  \n",
            "2            NEAR BAY  \n",
            "3            NEAR BAY  \n",
            "4            NEAR BAY  \n",
            "...               ...  \n",
            "20635          INLAND  \n",
            "20636          INLAND  \n",
            "20637          INLAND  \n",
            "20638          INLAND  \n",
            "20639          INLAND  \n",
            "\n",
            "[20640 rows x 10 columns]\n"
          ]
        }
      ]
    },
    {
      "cell_type": "code",
      "source": [
        "#B\n",
        "df = pd.DataFrame(data)\n",
        "\n",
        "print(\"Data types:\")\n",
        "print(df.dtypes)\n",
        "print(\"\\nShape:\")\n",
        "print(df.shape)"
      ],
      "metadata": {
        "colab": {
          "base_uri": "https://localhost:8080/"
        },
        "id": "cVdx9rlkHpXO",
        "outputId": "9b47b937-85fb-4eed-fd66-ec4a2f9c95da"
      },
      "execution_count": 11,
      "outputs": [
        {
          "output_type": "stream",
          "name": "stdout",
          "text": [
            "Data types:\n",
            "longitude             float64\n",
            "latitude              float64\n",
            "housing_median_age      int64\n",
            "total_rooms             int64\n",
            "total_bedrooms        float64\n",
            "population              int64\n",
            "households              int64\n",
            "median_income         float64\n",
            "median_house_value      int64\n",
            "ocean_proximity        object\n",
            "dtype: object\n",
            "\n",
            "Shape:\n",
            "(20640, 10)\n"
          ]
        }
      ]
    },
    {
      "cell_type": "code",
      "source": [
        "#C\n",
        "import pandas as pd\n",
        "\n",
        "data = pd.read_excel('/content/drive/MyDrive/Colab Notebooks/housing.xlsx')\n",
        "null_values = data.isnull().sum()\n",
        "for column in data.columns:\n",
        "    if data[column].isnull().any():\n",
        "        if data[column].dtype == 'object':\n",
        "            data[column].fillna('0', inplace=True)\n",
        "        else:\n",
        "            data[column].fillna(data[column].mean(), inplace=True)\n",
        "null_values_after_fill = data.isnull().sum()\n",
        "\n",
        "print(\"Null values before filling:\")\n",
        "print(null_values)\n",
        "print(\"\\nNull values after filling:\")\n",
        "print(null_values_after_fill)\n"
      ],
      "metadata": {
        "colab": {
          "base_uri": "https://localhost:8080/"
        },
        "id": "RXI3cm6OJjNH",
        "outputId": "deff6a78-fdce-4a0e-ce8c-a71b44ad113a"
      },
      "execution_count": 13,
      "outputs": [
        {
          "output_type": "stream",
          "name": "stdout",
          "text": [
            "Null values before filling:\n",
            "longitude               0\n",
            "latitude                0\n",
            "housing_median_age      0\n",
            "total_rooms             0\n",
            "total_bedrooms        207\n",
            "population              0\n",
            "households              0\n",
            "median_income           0\n",
            "median_house_value      0\n",
            "ocean_proximity         0\n",
            "dtype: int64\n",
            "\n",
            "Null values after filling:\n",
            "longitude             0\n",
            "latitude              0\n",
            "housing_median_age    0\n",
            "total_rooms           0\n",
            "total_bedrooms        0\n",
            "population            0\n",
            "households            0\n",
            "median_income         0\n",
            "median_house_value    0\n",
            "ocean_proximity       0\n",
            "dtype: int64\n"
          ]
        }
      ]
    },
    {
      "cell_type": "code",
      "source": [
        "#D\n",
        "import pandas as pd\n",
        "\n",
        "data = pd.read_excel('/content/drive/MyDrive/Colab Notebooks/housing.xlsx')\n",
        "target_column = data.columns[-1]\n",
        "features = data.drop(columns=[target_column])\n",
        "target = data[target_column]\n",
        "print(\"Features:\")\n",
        "print(features.head())\n",
        "print(\"\\nTarget variable:\")\n",
        "print(target.head())"
      ],
      "metadata": {
        "colab": {
          "base_uri": "https://localhost:8080/"
        },
        "id": "NKKE5r9bL7zY",
        "outputId": "25a4f9d9-d8fb-4074-84c5-ef37049d77b3"
      },
      "execution_count": 16,
      "outputs": [
        {
          "output_type": "stream",
          "name": "stdout",
          "text": [
            "Features:\n",
            "   longitude  latitude  housing_median_age  total_rooms  total_bedrooms  \\\n",
            "0    -122.23     37.88                  41          880           129.0   \n",
            "1    -122.22     37.86                  21         7099          1106.0   \n",
            "2    -122.24     37.85                  52         1467           190.0   \n",
            "3    -122.25     37.85                  52         1274           235.0   \n",
            "4    -122.25     37.85                  52         1627           280.0   \n",
            "\n",
            "   population  households  median_income  median_house_value  \n",
            "0         322         126         8.3252              452600  \n",
            "1        2401        1138         8.3014              358500  \n",
            "2         496         177         7.2574              352100  \n",
            "3         558         219         5.6431              341300  \n",
            "4         565         259         3.8462              342200  \n",
            "\n",
            "Target variable:\n",
            "0    NEAR BAY\n",
            "1    NEAR BAY\n",
            "2    NEAR BAY\n",
            "3    NEAR BAY\n",
            "4    NEAR BAY\n",
            "Name: ocean_proximity, dtype: object\n"
          ]
        }
      ]
    },
    {
      "cell_type": "code",
      "source": [
        "y=data['median_house_value']\n",
        "x=data.drop('median_house_value',axis=1)\n",
        "#print(x)\n",
        "print(y)"
      ],
      "metadata": {
        "colab": {
          "base_uri": "https://localhost:8080/"
        },
        "id": "WTEb5aGnPMRN",
        "outputId": "4a4a0a58-5cbb-4c65-eddb-d02c0749b38b"
      },
      "execution_count": 27,
      "outputs": [
        {
          "output_type": "stream",
          "name": "stdout",
          "text": [
            "0        452600\n",
            "1        358500\n",
            "2        352100\n",
            "3        341300\n",
            "4        342200\n",
            "          ...  \n",
            "20635     78100\n",
            "20636     77100\n",
            "20637     92300\n",
            "20638     84700\n",
            "20639     89400\n",
            "Name: median_house_value, Length: 20640, dtype: int64\n"
          ]
        }
      ]
    },
    {
      "cell_type": "code",
      "source": [
        "#E\n",
        "import pandas as pd\n",
        "from sklearn.model_selection import train_test_split\n",
        "\n",
        "data = pd.read_excel('/content/drive/MyDrive/Colab Notebooks/housing.xlsx')\n",
        "target_column = data.columns[-1]\n",
        "\n",
        "features = data.drop(columns=[target_column])\n",
        "target = data[target_column]\n",
        "X_train, X_test, y_train, y_test = train_test_split(features, target, test_size=0.2, random_state=42)\n",
        "\n",
        "print(\"Shape of X_train:\", X_train.shape)\n",
        "print(\"Shape of X_test:\", X_test.shape)\n",
        "print(\"Shape of y_train:\", y_train.shape)\n",
        "print(\"Shape of y_test:\",y_test.shape)\n"
      ],
      "metadata": {
        "colab": {
          "base_uri": "https://localhost:8080/"
        },
        "id": "rRE7iKxqMlgG",
        "outputId": "a83ec31a-94a8-4079-e775-dd066d6a969b"
      },
      "execution_count": 18,
      "outputs": [
        {
          "output_type": "stream",
          "name": "stdout",
          "text": [
            "Shape of X_train: (16512, 9)\n",
            "Shape of X_test: (4128, 9)\n",
            "Shape of y_train: (16512,)\n",
            "Shape of y_test: (4128,)\n"
          ]
        }
      ]
    },
    {
      "cell_type": "code",
      "source": [
        "#F\n",
        "import pandas as pd\n",
        "from sklearn.preprocessing import MinMaxScaler\n",
        "\n",
        "data = pd.read_excel('/content/drive/MyDrive/Colab Notebooks/housing.xlsx')\n",
        "target_column = data.columns[-1]\n",
        "features = data.drop(columns=[target_column])\n",
        "target = data[target_column]\n",
        "scaler = MinMaxScaler()\n",
        "features_normalized = scaler.fit_transform(features)\n",
        "features_normalized_df = pd.DataFrame(features_normalized, columns=features.columns)\n",
        "print(\"Normalized Features:\")\n",
        "print(features_normalized_df.head())\n"
      ],
      "metadata": {
        "colab": {
          "base_uri": "https://localhost:8080/"
        },
        "id": "S1YB89xpNH0r",
        "outputId": "5f7aa3af-17ec-4c68-8228-5feadc025b70"
      },
      "execution_count": 19,
      "outputs": [
        {
          "output_type": "stream",
          "name": "stdout",
          "text": [
            "Normalized Features:\n",
            "   longitude  latitude  housing_median_age  total_rooms  total_bedrooms  \\\n",
            "0   0.211155  0.567481            0.784314     0.022331        0.019863   \n",
            "1   0.212151  0.565356            0.392157     0.180503        0.171477   \n",
            "2   0.210159  0.564293            1.000000     0.037260        0.029330   \n",
            "3   0.209163  0.564293            1.000000     0.032352        0.036313   \n",
            "4   0.209163  0.564293            1.000000     0.041330        0.043296   \n",
            "\n",
            "   population  households  median_income  median_house_value  \n",
            "0    0.008941    0.020556       0.539668            0.902266  \n",
            "1    0.067210    0.186976       0.538027            0.708247  \n",
            "2    0.013818    0.028943       0.466028            0.695051  \n",
            "3    0.015555    0.035849       0.354699            0.672783  \n",
            "4    0.015752    0.042427       0.230776            0.674638  \n"
          ]
        }
      ]
    }
  ]
}