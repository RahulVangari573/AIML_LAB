{
  "nbformat": 4,
  "nbformat_minor": 0,
  "metadata": {
    "colab": {
      "provenance": []
    },
    "kernelspec": {
      "name": "python3",
      "display_name": "Python 3"
    },
    "language_info": {
      "name": "python"
    }
  },
  "cells": [
    {
      "cell_type": "code",
      "execution_count": null,
      "metadata": {
        "colab": {
          "base_uri": "https://localhost:8080/"
        },
        "id": "A6DCeuceGann",
        "outputId": "899d0c57-9cfe-4630-aff2-d6bcd478f134"
      },
      "outputs": [
        {
          "output_type": "stream",
          "name": "stdout",
          "text": [
            "Mounted at /content/drive\n"
          ]
        }
      ],
      "source": [
        "from google.colab import drive\n",
        "drive.mount('/content/drive')"
      ]
    },
    {
      "cell_type": "code",
      "source": [
        "import pandas as pd\n",
        "df = pd.read_csv('/content/train.csv')\n",
        "print(df)"
      ],
      "metadata": {
        "colab": {
          "base_uri": "https://localhost:8080/"
        },
        "id": "O1UvULHGJWfR",
        "outputId": "c37d1f22-3a14-4908-8e18-cf686bedbfbe"
      },
      "execution_count": 11,
      "outputs": [
        {
          "output_type": "stream",
          "name": "stdout",
          "text": [
            "      battery_power  blue  clock_speed  dual_sim  fc  four_g  int_memory  \\\n",
            "0               842     0          2.2         0   1       0           7   \n",
            "1              1021     1          0.5         1   0       1          53   \n",
            "2               563     1          0.5         1   2       1          41   \n",
            "3               615     1          2.5         0   0       0          10   \n",
            "4              1821     1          1.2         0  13       1          44   \n",
            "...             ...   ...          ...       ...  ..     ...         ...   \n",
            "1995            794     1          0.5         1   0       1           2   \n",
            "1996           1965     1          2.6         1   0       0          39   \n",
            "1997           1911     0          0.9         1   1       1          36   \n",
            "1998           1512     0          0.9         0   4       1          46   \n",
            "1999            510     1          2.0         1   5       1          45   \n",
            "\n",
            "      m_dep  mobile_wt  n_cores  ...  px_height  px_width   ram  sc_h  sc_w  \\\n",
            "0       0.6        188        2  ...         20       756  2549     9     7   \n",
            "1       0.7        136        3  ...        905      1988  2631    17     3   \n",
            "2       0.9        145        5  ...       1263      1716  2603    11     2   \n",
            "3       0.8        131        6  ...       1216      1786  2769    16     8   \n",
            "4       0.6        141        2  ...       1208      1212  1411     8     2   \n",
            "...     ...        ...      ...  ...        ...       ...   ...   ...   ...   \n",
            "1995    0.8        106        6  ...       1222      1890   668    13     4   \n",
            "1996    0.2        187        4  ...        915      1965  2032    11    10   \n",
            "1997    0.7        108        8  ...        868      1632  3057     9     1   \n",
            "1998    0.1        145        5  ...        336       670   869    18    10   \n",
            "1999    0.9        168        6  ...        483       754  3919    19     4   \n",
            "\n",
            "      talk_time  three_g  touch_screen  wifi  price_range  \n",
            "0            19        0             0     1            1  \n",
            "1             7        1             1     0            2  \n",
            "2             9        1             1     0            2  \n",
            "3            11        1             0     0            2  \n",
            "4            15        1             1     0            1  \n",
            "...         ...      ...           ...   ...          ...  \n",
            "1995         19        1             1     0            0  \n",
            "1996         16        1             1     1            2  \n",
            "1997          5        1             1     0            3  \n",
            "1998         19        1             1     1            0  \n",
            "1999          2        1             1     1            3  \n",
            "\n",
            "[2000 rows x 21 columns]\n"
          ]
        }
      ]
    },
    {
      "cell_type": "code",
      "source": [
        "#1\n",
        "#A\n",
        "y=df['price_range']\n",
        "print(y)\n",
        "x=df.drop('price_range',axis=1)\n",
        "print(x)"
      ],
      "metadata": {
        "colab": {
          "base_uri": "https://localhost:8080/"
        },
        "id": "nyEM8du0X2y1",
        "outputId": "0ce3e7b1-2694-401b-a788-bc073e9c0128"
      },
      "execution_count": 15,
      "outputs": [
        {
          "output_type": "stream",
          "name": "stdout",
          "text": [
            "0       1\n",
            "1       2\n",
            "2       2\n",
            "3       2\n",
            "4       1\n",
            "       ..\n",
            "1995    0\n",
            "1996    2\n",
            "1997    3\n",
            "1998    0\n",
            "1999    3\n",
            "Name: price_range, Length: 2000, dtype: int64\n",
            "      battery_power  blue  clock_speed  dual_sim  fc  four_g  int_memory  \\\n",
            "0               842     0          2.2         0   1       0           7   \n",
            "1              1021     1          0.5         1   0       1          53   \n",
            "2               563     1          0.5         1   2       1          41   \n",
            "3               615     1          2.5         0   0       0          10   \n",
            "4              1821     1          1.2         0  13       1          44   \n",
            "...             ...   ...          ...       ...  ..     ...         ...   \n",
            "1995            794     1          0.5         1   0       1           2   \n",
            "1996           1965     1          2.6         1   0       0          39   \n",
            "1997           1911     0          0.9         1   1       1          36   \n",
            "1998           1512     0          0.9         0   4       1          46   \n",
            "1999            510     1          2.0         1   5       1          45   \n",
            "\n",
            "      m_dep  mobile_wt  n_cores  pc  px_height  px_width   ram  sc_h  sc_w  \\\n",
            "0       0.6        188        2   2         20       756  2549     9     7   \n",
            "1       0.7        136        3   6        905      1988  2631    17     3   \n",
            "2       0.9        145        5   6       1263      1716  2603    11     2   \n",
            "3       0.8        131        6   9       1216      1786  2769    16     8   \n",
            "4       0.6        141        2  14       1208      1212  1411     8     2   \n",
            "...     ...        ...      ...  ..        ...       ...   ...   ...   ...   \n",
            "1995    0.8        106        6  14       1222      1890   668    13     4   \n",
            "1996    0.2        187        4   3        915      1965  2032    11    10   \n",
            "1997    0.7        108        8   3        868      1632  3057     9     1   \n",
            "1998    0.1        145        5   5        336       670   869    18    10   \n",
            "1999    0.9        168        6  16        483       754  3919    19     4   \n",
            "\n",
            "      talk_time  three_g  touch_screen  wifi  \n",
            "0            19        0             0     1  \n",
            "1             7        1             1     0  \n",
            "2             9        1             1     0  \n",
            "3            11        1             0     0  \n",
            "4            15        1             1     0  \n",
            "...         ...      ...           ...   ...  \n",
            "1995         19        1             1     0  \n",
            "1996         16        1             1     1  \n",
            "1997          5        1             1     0  \n",
            "1998         19        1             1     1  \n",
            "1999          2        1             1     1  \n",
            "\n",
            "[2000 rows x 20 columns]\n"
          ]
        }
      ]
    },
    {
      "cell_type": "code",
      "source": [
        "#B\n",
        "from sklearn.preprocessing import MinMaxScaler\n",
        "scaler=MinMaxScaler()\n",
        "x_train_scaled=scaler.fit_transform(x_train)\n",
        "x_test_scaled=scaler.transform(x_test)"
      ],
      "metadata": {
        "id": "tUOKynVpa64H"
      },
      "execution_count": 23,
      "outputs": []
    },
    {
      "cell_type": "code",
      "source": [
        "#C\n",
        "from sklearn.model_selection import train_test_split\n",
        "x_train,x_test,y_train,y_test=train_test_split(x,y,test_size=0.20,random_state=20)\n",
        "print(y_test,x_test)"
      ],
      "metadata": {
        "colab": {
          "base_uri": "https://localhost:8080/"
        },
        "id": "aGl_q_1GYSoo",
        "outputId": "7fc670e0-c2da-43f6-ae23-e971a6d0b061"
      },
      "execution_count": 17,
      "outputs": [
        {
          "output_type": "stream",
          "name": "stdout",
          "text": [
            "1556    3\n",
            "1560    2\n",
            "1559    2\n",
            "1594    1\n",
            "906     3\n",
            "       ..\n",
            "959     3\n",
            "1939    2\n",
            "668     3\n",
            "534     2\n",
            "1111    3\n",
            "Name: price_range, Length: 400, dtype: int64       battery_power  blue  clock_speed  dual_sim  fc  four_g  int_memory  \\\n",
            "1556            875     1          1.4         1   1       1          43   \n",
            "1560           1872     0          0.5         0   5       1          26   \n",
            "1559            671     0          2.9         0   7       1           2   \n",
            "1594            586     1          0.6         0  16       1          42   \n",
            "906            1983     1          1.2         1   6       1          27   \n",
            "...             ...   ...          ...       ...  ..     ...         ...   \n",
            "959            1569     0          0.5         1   3       0          33   \n",
            "1939           1588     1          2.5         0  12       1           4   \n",
            "668            1677     0          1.8         1   4       0          11   \n",
            "534            1656     1          1.6         1   0       0          16   \n",
            "1111           1735     1          1.9         1   0       1          59   \n",
            "\n",
            "      m_dep  mobile_wt  n_cores  pc  px_height  px_width   ram  sc_h  sc_w  \\\n",
            "1556    0.6        104        8   3        902       969  3396    14     2   \n",
            "1560    0.5        172        4  10        672      1088  2273     8     4   \n",
            "1559    0.1         95        6  19        614      1617  2278    13     4   \n",
            "1594    0.3        121        7  17        785      1118  1869    12     2   \n",
            "906     0.6        125        1  11        370      1197  3897    12    10   \n",
            "...     ...        ...      ...  ..        ...       ...   ...   ...   ...   \n",
            "959     0.2        147        1  13        519       930  3538    18     1   \n",
            "1939    0.3        148        5  20        146       822  2506     5     3   \n",
            "668     0.7        124        6   8        271      1477  3771    15     6   \n",
            "534     1.0        117        7   2        320       899  2856    14     3   \n",
            "1111    0.7        148        6   0        137       846  3230     6     1   \n",
            "\n",
            "      talk_time  three_g  touch_screen  wifi  \n",
            "1556         18        1             0     0  \n",
            "1560          8        1             0     1  \n",
            "1559          2        1             0     0  \n",
            "1594          7        1             1     1  \n",
            "906          10        1             1     1  \n",
            "...         ...      ...           ...   ...  \n",
            "959          15        1             0     1  \n",
            "1939         11        1             0     0  \n",
            "668          12        1             0     0  \n",
            "534          20        1             1     1  \n",
            "1111          9        1             1     0  \n",
            "\n",
            "[400 rows x 20 columns]\n"
          ]
        }
      ]
    },
    {
      "cell_type": "code",
      "source": [
        "from sklearn.linear_model import LogisticRegression\n",
        "lg=LogisticRegression()\n",
        "model=lg.fit(x_train,y_train)"
      ],
      "metadata": {
        "colab": {
          "base_uri": "https://localhost:8080/"
        },
        "id": "_STHvtTSYuZU",
        "outputId": "a267111d-2e5e-4098-8052-74bc77ce9108"
      },
      "execution_count": 18,
      "outputs": [
        {
          "output_type": "stream",
          "name": "stderr",
          "text": [
            "/usr/local/lib/python3.10/dist-packages/sklearn/linear_model/_logistic.py:458: ConvergenceWarning: lbfgs failed to converge (status=1):\n",
            "STOP: TOTAL NO. of ITERATIONS REACHED LIMIT.\n",
            "\n",
            "Increase the number of iterations (max_iter) or scale the data as shown in:\n",
            "    https://scikit-learn.org/stable/modules/preprocessing.html\n",
            "Please also refer to the documentation for alternative solver options:\n",
            "    https://scikit-learn.org/stable/modules/linear_model.html#logistic-regression\n",
            "  n_iter_i = _check_optimize_result(\n"
          ]
        }
      ]
    },
    {
      "cell_type": "code",
      "source": [
        "#2\n",
        "from sklearn.metrics import accuracy_score,confusion_matrix,classification_report,precision_recall_fscore_support\n",
        "yp=model.predict(x_test)\n",
        "print(confusion_matrix(yp,y_test))\n",
        "print(classification_report(yp,y_test))\n",
        "print(precision_recall_fscore_support(yp,y_test))"
      ],
      "metadata": {
        "colab": {
          "base_uri": "https://localhost:8080/"
        },
        "id": "hj12XdXfZD15",
        "outputId": "7ad37a64-5069-41e6-8082-b6a1223233c2"
      },
      "execution_count": 22,
      "outputs": [
        {
          "output_type": "stream",
          "name": "stdout",
          "text": [
            "[[76  9  0  0]\n",
            " [11 62 34  0]\n",
            " [ 1 22 50 16]\n",
            " [ 0  5 30 84]]\n",
            "              precision    recall  f1-score   support\n",
            "\n",
            "           0       0.86      0.89      0.88        85\n",
            "           1       0.63      0.58      0.60       107\n",
            "           2       0.44      0.56      0.49        89\n",
            "           3       0.84      0.71      0.77       119\n",
            "\n",
            "    accuracy                           0.68       400\n",
            "   macro avg       0.69      0.69      0.69       400\n",
            "weighted avg       0.70      0.68      0.69       400\n",
            "\n",
            "(array([0.86363636, 0.63265306, 0.43859649, 0.84      ]), array([0.89411765, 0.57943925, 0.56179775, 0.70588235]), array([0.87861272, 0.60487805, 0.49261084, 0.76712329]), array([ 85, 107,  89, 119]))\n"
          ]
        }
      ]
    }
  ]
}